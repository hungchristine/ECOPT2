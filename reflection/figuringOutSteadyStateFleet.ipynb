{
 "cells": [
  {
   "cell_type": "code",
   "execution_count": 2,
   "metadata": {},
   "outputs": [],
   "source": [
    "from scipy.stats import norm\n",
    "import matplotlib.pyplot as plt\n",
    "import numpy as np\n",
    "import pandas as pd\n",
    "\n",
    "# For ascii plot - can be fetched from pip\n",
    "import termiplot as tp\n",
    "\n"
   ]
  },
  {
   "cell_type": "code",
   "execution_count": 49,
   "metadata": {},
   "outputs": [],
   "source": [
    "ages = [i for i in range(20)]"
   ]
  },
  {
   "cell_type": "markdown",
   "metadata": {},
   "source": [
    "# Calculate age distribution at steady state"
   ]
  },
  {
   "cell_type": "code",
   "execution_count": 50,
   "metadata": {},
   "outputs": [],
   "source": [
    "def calc_steadystate_vehicle_age_distributions(ages, average_expectancy=10, standard_dev=3):\n",
    "    \"\"\" A simple normal cummulative distribution funtion\n",
    "    \n",
    "    Calculates an age distribution function that would be consistent with\n",
    "    1) A normal distribution around an average age of death\n",
    "    2) A steady state situation, where the deaths in each year are replaced by new cars\n",
    "\n",
    "    \n",
    "    \n",
    "    \n",
    "    \n",
    "    Parameters\n",
    "    ----------\n",
    "    ages : 1-dimensional numpy array\n",
    "        The range of ages that we are investigating\n",
    "    average_expectancy : float\n",
    "        Average age at which a typical car dies\n",
    "    standard_deviation: float\n",
    "        Standar deviation around that average death age\n",
    "        \n",
    "    Returns\n",
    "    -------\n",
    "    q : The fraction\n",
    "    \n",
    "    Example\n",
    "    -------\n",
    "\n",
    "      Average age of death (loc): 10,  Standard Deviation: 3\n",
    "\n",
    "      Age Distribution at Steady State\n",
    "\n",
    "       10 +----------------------------------------------------------------------+\n",
    "         |*************                                                         |\n",
    "         |             *******                                                  |\n",
    "       9 |                    ***                                               |\n",
    "         |                       *                                              |\n",
    "       8 |                        ***                                           |\n",
    "         |                                                                      |\n",
    "         |                           **                                         |\n",
    "       7 |                             **                                       |\n",
    "         |                                                                      |\n",
    "       6 |                               *                                      |\n",
    "         |                                *                                     |\n",
    "         |                                 *                                    |\n",
    "       5 |                                  *                                   |\n",
    "         |                                   *                                  |\n",
    "         |                                    *                                 |\n",
    "       4 |                                     *                                |\n",
    "         |                                      **                              |\n",
    "       3 |                                        **                            |\n",
    "         |                                                                      |\n",
    "         |                                          ***                         |\n",
    "       2 |                                                                      |\n",
    "         |                                             ***                      |\n",
    "       1 |                                                *                     |\n",
    "         |                                                 ***                  |\n",
    "         |                                                    *******           |\n",
    "       0 +----------------------------------------------------------------------+\n",
    "         0      2      4      6      8       10     12     14     16     18     20\n",
    "\n",
    "\n",
    "    \n",
    "    \"\"\"\n",
    "    \n",
    "    h = 1 - norm.cdf(ages, loc=average_expectancy, scale=standard_dev)\n",
    "    q = h / h.sum()\n",
    "    return q\n",
    "\n"
   ]
  },
  {
   "cell_type": "code",
   "execution_count": 51,
   "metadata": {},
   "outputs": [
    {
     "data": {
      "text/plain": [
       "[<matplotlib.lines.Line2D at 0x7f0579b20390>]"
      ]
     },
     "execution_count": 51,
     "metadata": {},
     "output_type": "execute_result"
    },
    {
     "data": {
      "image/png": "[encoded data removed]",
      "text/plain": [
       "<Figure size 432x288 with 1 Axes>"
      ]
     },
     "metadata": {},
     "output_type": "display_data"
    }
   ],
   "source": [
    "q = calc_steadystate_vehicle_age_distributions(ages, 10, 2)\n",
    "plt.plot(ages, q * 100, marker='.')"
   ]
  },
  {
   "cell_type": "code",
   "execution_count": 52,
   "metadata": {},
   "outputs": [
    {
     "name": "stdout",
     "output_type": "stream",
     "text": [
      "  10 +----------------------------------------------------------------------+\n",
      "     |********************                                                  |\n",
      "     |                    ****                                              |\n",
      "   9 |                        ***                                           |\n",
      "     |                                                                      |\n",
      "   8 |                           *                                          |\n",
      "     |                            *                                         |\n",
      "     |                             *                                        |\n",
      "   7 |                              *                                       |\n",
      "     |                               *                                      |\n",
      "   6 |                                *                                     |\n",
      "     |                                 *                                    |\n",
      "     |                                 *                                    |\n",
      "   5 |                                  *                                   |\n",
      "     |                                   *                                  |\n",
      "     |                                    *                                 |\n",
      "   4 |                                     *                                |\n",
      "     |                                     *                                |\n",
      "   3 |                                      *                               |\n",
      "     |                                       *                              |\n",
      "     |                                        *                             |\n",
      "   2 |                                         *                            |\n",
      "     |                                          ***                         |\n",
      "   1 |                                                                      |\n",
      "     |                                             ****                     |\n",
      "     |                                                 ***                  |\n",
      "   0 +----------------------------------------------------------------------+\n",
      "     0      2      4      6      8       10     12     14     16     18     20\n"
     ]
    }
   ],
   "source": [
    "fig = tp.figure()\n",
    "fig.plot(ages, q*100, height=30)\n",
    "fig.show()"
   ]
  },
  {
   "cell_type": "markdown",
   "metadata": {},
   "source": [
    "# Memento mori"
   ]
  },
  {
   "cell_type": "code",
   "execution_count": 53,
   "metadata": {},
   "outputs": [],
   "source": [
    "def calculate_probability_of_vehicle_retirement(ages, age_distribution):\n",
    "    \"\"\" Calculate probability of any given car dying during the year, depending on its age.\n",
    "    This probability is calculated from the age distribution of a population, that is assumed to be and to have been at steady state\n",
    "\n",
    "    This is only valid if we can assume that the population is at steady state. \n",
    "    If in doubt, it is probably best to rely on some idealized population distribution, \n",
    "    such as the one calculated by `calc_steadystate_vehicle_age_distributions()`  \n",
    "        \n",
    "    Parameters\n",
    "    ----------\n",
    "    ages : 1-dimensional numpy array\n",
    "        The range of ages that we are investigating\n",
    "        \n",
    "    age_distribution: 1-dimensional numpy array\n",
    "        The fraction of vehicles that have a certain age\n",
    "    \n",
    "    \n",
    "    Returns\n",
    "    -------\n",
    "    g : 1-dimensional numpy array\n",
    "        The probability that a car of a given age will die during the year\n",
    "        \n",
    "    Example\n",
    "    --------\n",
    "    \n",
    "    Given an age distribution consistent with an average life expectancy of 10 years (SD 3 years), we get the following\n",
    "    \n",
    "           Probability of death during the year, as function of age\n",
    "    \n",
    "        1 +---------------------------------------------------------------------+\n",
    "          |                                                                  *  |\n",
    "          |                                                                 *   |\n",
    "      0.9 |                                                                 *   |\n",
    "          |                                                                *    |\n",
    "      0.8 |                                                                *    |\n",
    "          |                                                               *     |\n",
    "          |                                                               *     |\n",
    "      0.7 |                                                              *      |\n",
    "          |                                                             **      |\n",
    "      0.6 |                                                         ****        |\n",
    "          |                                                      ***            |\n",
    "          |                                                   ***               |\n",
    "      0.5 |                                                 **                  |\n",
    "          |                                               **                    |\n",
    "          |                                           ****                      |\n",
    "      0.4 |                                         **                          |\n",
    "          |                                       **                            |\n",
    "      0.3 |                                    ***                              |\n",
    "          |                                  **                                 |\n",
    "          |                                **                                   |\n",
    "      0.2 |                             ***                                     |\n",
    "          |                          ***                                        |\n",
    "      0.1 |                      ****                                           |\n",
    "          |                   ***                                               |\n",
    "          |            *******                                                  |\n",
    "        0 +---------------------------------------------------------------------+\n",
    "      0      2      4      6      8      10     12     14     16     18     20\n",
    "                                    age of car\n",
    "    \n",
    "    \"\"\"\n",
    "    # Initialize\n",
    "    g = np.zeros_like(q)\n",
    "    \n",
    "    \n",
    "    for a in ages[:-1]:\n",
    "        if q[a] > 0:\n",
    "            # Probability of dying is 1 minus the factions of cars that make it to the next year\n",
    "            g[a] = 1 - q[a + 1] / q[a]\n",
    "            \n",
    "        else:\n",
    "            # If no car left, then 100% death (just to avoid NaN)\n",
    "            g[a] = 1.0\n",
    "            \n",
    "    # At the end of the time window, force exactly 100% probability of death\n",
    "    g[-1] = 1.0\n",
    "    \n",
    "    return g#ages = age"
   ]
  },
  {
   "cell_type": "code",
   "execution_count": 54,
   "metadata": {},
   "outputs": [
    {
     "data": {
      "text/plain": [
       "[<matplotlib.lines.Line2D at 0x7f0579af6828>]"
      ]
     },
     "execution_count": 54,
     "metadata": {},
     "output_type": "execute_result"
    },
    {
     "data": {
      "image/png": "[encoded data removed]",
      "text/plain": [
       "<Figure size 432x288 with 1 Axes>"
      ]
     },
     "metadata": {},
     "output_type": "display_data"
    }
   ],
   "source": [
    "g = calculate_probability_of_vehicle_retirement(ages, q)\n",
    "\n",
    "plt.plot(age, g, marker='.')"
   ]
  },
  {
   "cell_type": "code",
   "execution_count": 55,
   "metadata": {},
   "outputs": [
    {
     "name": "stdout",
     "output_type": "stream",
     "text": [
      "    1 +---------------------------------------------------------------------+\n",
      "      |                                                                **   |\n",
      "      |                                                               *     |\n",
      "  0.9 |                                                             **      |\n",
      "      |                                                       ******        |\n",
      "  0.8 |                                                     **              |\n",
      "      |                                                  ***                |\n",
      "      |                                                **                   |\n",
      "  0.7 |                                              **                     |\n",
      "      |                                            **                       |\n",
      "  0.6 |                                          **                         |\n",
      "      |                                         *                           |\n",
      "      |                                       **                            |\n",
      "  0.5 |                                      *                              |\n",
      "      |                                    **                               |\n",
      "      |                                   *                                 |\n",
      "  0.4 |                                  *                                  |\n",
      "      |                                 *                                   |\n",
      "  0.3 |                                *                                    |\n",
      "      |                              **                                     |\n",
      "      |                            **                                       |\n",
      "  0.2 |                           *                                         |\n",
      "      |                         **                                          |\n",
      "  0.1 |                       **                                            |\n",
      "      |                     **                                              |\n",
      "      |                   **                                                |\n",
      "    0 +---------------------------------------------------------------------+\n",
      "      0      2      4      6      8      10     12     14     16     18     20\n"
     ]
    }
   ],
   "source": [
    "fig = tp.figure()\n",
    "fig.plot(ages, g, height=30)\n",
    "fig.show()"
   ]
  },
  {
   "cell_type": "markdown",
   "metadata": {},
   "source": [
    "# Quality checks"
   ]
  },
  {
   "cell_type": "code",
   "execution_count": 36,
   "metadata": {},
   "outputs": [
    {
     "data": {
      "text/plain": [
       "True"
      ]
     },
     "execution_count": 36,
     "metadata": {},
     "output_type": "execute_result"
    }
   ],
   "source": [
    "# Quality check: Age distribution should add up to 1\n",
    "np.allclose(q.sum(), 1)"
   ]
  },
  {
   "cell_type": "code",
   "execution_count": 57,
   "metadata": {},
   "outputs": [
    {
     "data": {
      "text/plain": [
       "True"
      ]
     },
     "execution_count": 57,
     "metadata": {},
     "output_type": "execute_result"
    }
   ],
   "source": [
    "# The sum of all the cars that are retired must the number of cars added in the first year: steady state\n",
    "\n",
    "M = 1000 # Total number of cars\n",
    "\n",
    "retired = g.dot(q * M)\n",
    "\n",
    "added = q[0] * M\n",
    "\n",
    "np.allclose(retired, added)"
   ]
  }
 ],
 "metadata": {
  "kernelspec": {
   "display_name": "Python 3",
   "language": "python",
   "name": "python3"
  },
  "language_info": {
   "codemirror_mode": {
    "name": "ipython",
    "version": 3
   },
   "file_extension": ".py",
   "mimetype": "text/x-python",
   "name": "python",
   "nbconvert_exporter": "python",
   "pygments_lexer": "ipython3",
   "version": "3.6.7"
  }
 },
 "nbformat": 4,
 "nbformat_minor": 2
}
