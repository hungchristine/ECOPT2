{
 "cells": [
  {
   "cell_type": "markdown",
   "metadata": {},
   "source": [
    "# GMSPY demo"
   ]
  },
  {
   "cell_type": "code",
   "execution_count": 1,
   "metadata": {},
   "outputs": [],
   "source": [
    "import gmspy\n",
    "import gams\n",
    "import pandas as pd\n",
    "import numpy as np"
   ]
  },
  {
   "cell_type": "markdown",
   "metadata": {},
   "source": [
    "## Define some Data"
   ]
  },
  {
   "cell_type": "code",
   "execution_count": 2,
   "metadata": {},
   "outputs": [],
   "source": [
    "# 3 sets\n",
    "cohorts = [str(i) for i in range(2020, 2029)] # Important that this be string, not integers\n",
    "tech = ['bev', 'icev']\n",
    "imps = ['gwp']"
   ]
  },
  {
   "cell_type": "code",
   "execution_count": 3,
   "metadata": {},
   "outputs": [
    {
     "data": {
      "text/plain": [
       "bev     100\n",
       "icev      2\n",
       "dtype: int64"
      ]
     },
     "execution_count": 3,
     "metadata": {},
     "output_type": "execute_result"
    }
   ],
   "source": [
    "# total demand - pd Series\n",
    "Y = pd.Series(index=tech, data=[100, 2])\n",
    "Y"
   ]
  },
  {
   "cell_type": "code",
   "execution_count": 4,
   "metadata": {},
   "outputs": [
    {
     "data": {
      "text/html": [
       "<div>\n",
       "<style scoped>\n",
       "    .dataframe tbody tr th:only-of-type {\n",
       "        vertical-align: middle;\n",
       "    }\n",
       "\n",
       "    .dataframe tbody tr th {\n",
       "        vertical-align: top;\n",
       "    }\n",
       "\n",
       "    .dataframe thead th {\n",
       "        text-align: right;\n",
       "    }\n",
       "</style>\n",
       "<table border=\"1\" class=\"dataframe\">\n",
       "  <thead>\n",
       "    <tr style=\"text-align: right;\">\n",
       "      <th></th>\n",
       "      <th>2020</th>\n",
       "      <th>2021</th>\n",
       "      <th>2022</th>\n",
       "      <th>2023</th>\n",
       "      <th>2024</th>\n",
       "      <th>2025</th>\n",
       "      <th>2026</th>\n",
       "      <th>2027</th>\n",
       "      <th>2028</th>\n",
       "    </tr>\n",
       "  </thead>\n",
       "  <tbody>\n",
       "    <tr>\n",
       "      <th>bev</th>\n",
       "      <td>0.688669</td>\n",
       "      <td>0.079602</td>\n",
       "      <td>0.594031</td>\n",
       "      <td>0.011032</td>\n",
       "      <td>0.662522</td>\n",
       "      <td>0.422199</td>\n",
       "      <td>0.795230</td>\n",
       "      <td>0.197732</td>\n",
       "      <td>0.149490</td>\n",
       "    </tr>\n",
       "    <tr>\n",
       "      <th>icev</th>\n",
       "      <td>0.103520</td>\n",
       "      <td>0.351881</td>\n",
       "      <td>0.144436</td>\n",
       "      <td>0.342146</td>\n",
       "      <td>0.679196</td>\n",
       "      <td>0.471649</td>\n",
       "      <td>0.004622</td>\n",
       "      <td>0.812067</td>\n",
       "      <td>0.714773</td>\n",
       "    </tr>\n",
       "  </tbody>\n",
       "</table>\n",
       "</div>"
      ],
      "text/plain": [
       "          2020      2021      2022      2023      2024      2025      2026  \\\n",
       "bev   0.688669  0.079602  0.594031  0.011032  0.662522  0.422199  0.795230   \n",
       "icev  0.103520  0.351881  0.144436  0.342146  0.679196  0.471649  0.004622   \n",
       "\n",
       "          2027      2028  \n",
       "bev   0.197732  0.149490  \n",
       "icev  0.812067  0.714773  "
      ]
     },
     "execution_count": 4,
     "metadata": {},
     "output_type": "execute_result"
    }
   ],
   "source": [
    "# Stock - 2d DataFrame\n",
    "STOCK = pd.DataFrame(index=tech, columns=cohorts)\n",
    "STOCK[:] = np.random.rand(*STOCK.shape)\n",
    "STOCK"
   ]
  },
  {
   "cell_type": "code",
   "execution_count": 5,
   "metadata": {},
   "outputs": [
    {
     "data": {
      "text/html": [
       "<div>\n",
       "<style scoped>\n",
       "    .dataframe tbody tr th:only-of-type {\n",
       "        vertical-align: middle;\n",
       "    }\n",
       "\n",
       "    .dataframe tbody tr th {\n",
       "        vertical-align: top;\n",
       "    }\n",
       "\n",
       "    .dataframe thead th {\n",
       "        text-align: right;\n",
       "    }\n",
       "</style>\n",
       "<table border=\"1\" class=\"dataframe\">\n",
       "  <thead>\n",
       "    <tr style=\"text-align: right;\">\n",
       "      <th></th>\n",
       "      <th></th>\n",
       "      <th>2020</th>\n",
       "      <th>2021</th>\n",
       "      <th>2022</th>\n",
       "      <th>2023</th>\n",
       "      <th>2024</th>\n",
       "      <th>2025</th>\n",
       "      <th>2026</th>\n",
       "      <th>2027</th>\n",
       "      <th>2028</th>\n",
       "    </tr>\n",
       "  </thead>\n",
       "  <tbody>\n",
       "    <tr>\n",
       "      <th>bev</th>\n",
       "      <th>gwp</th>\n",
       "      <td>0.665257</td>\n",
       "      <td>0.996560</td>\n",
       "      <td>0.575023</td>\n",
       "      <td>0.224564</td>\n",
       "      <td>0.197891</td>\n",
       "      <td>0.298945</td>\n",
       "      <td>0.981139</td>\n",
       "      <td>0.400548</td>\n",
       "      <td>0.001846</td>\n",
       "    </tr>\n",
       "    <tr>\n",
       "      <th>icev</th>\n",
       "      <th>gwp</th>\n",
       "      <td>0.414993</td>\n",
       "      <td>0.799778</td>\n",
       "      <td>0.410036</td>\n",
       "      <td>0.020946</td>\n",
       "      <td>0.255123</td>\n",
       "      <td>0.500426</td>\n",
       "      <td>0.908273</td>\n",
       "      <td>0.057921</td>\n",
       "      <td>0.636679</td>\n",
       "    </tr>\n",
       "  </tbody>\n",
       "</table>\n",
       "</div>"
      ],
      "text/plain": [
       "              2020      2021      2022      2023      2024      2025  \\\n",
       "bev  gwp  0.665257  0.996560  0.575023  0.224564  0.197891  0.298945   \n",
       "icev gwp  0.414993  0.799778  0.410036  0.020946  0.255123  0.500426   \n",
       "\n",
       "              2026      2027      2028  \n",
       "bev  gwp  0.981139  0.400548  0.001846  \n",
       "icev gwp  0.908273  0.057921  0.636679  "
      ]
     },
     "execution_count": 5,
     "metadata": {},
     "output_type": "execute_result"
    }
   ],
   "source": [
    "# IMP - 3d DataFrame\n",
    "ix = pd.MultiIndex.from_product((tech, imps))\n",
    "IMP = pd.DataFrame(index=ix, columns=cohorts)\n",
    "IMP[:] = np.random.rand(*IMP.shape)\n",
    "IMP"
   ]
  },
  {
   "cell_type": "markdown",
   "metadata": {},
   "source": [
    "## Pass to GAMS and save to GDX file"
   ]
  },
  {
   "cell_type": "code",
   "execution_count": 6,
   "metadata": {},
   "outputs": [],
   "source": [
    "# Define worspace and database\n",
    "ws = gams.GamsWorkspace()\n",
    "my_db = ws.add_database()"
   ]
  },
  {
   "cell_type": "code",
   "execution_count": 7,
   "metadata": {},
   "outputs": [],
   "source": [
    "# Read in sets\n",
    "g_tech = gmspy.list2set(my_db, tech, 'tech')\n",
    "g_imps = gmspy.list2set(my_db, imps, 'imps', \"All the environmental impacts\")\n",
    "g_cohort = gmspy.list2set(my_db, cohorts, 'cohort', \"Year each car was built\")"
   ]
  },
  {
   "cell_type": "code",
   "execution_count": 8,
   "metadata": {},
   "outputs": [],
   "source": [
    "# Read in parameter\n",
    "g_Y = gmspy.df2param(my_db, df=Y, domains=[g_tech], name='Y', comment=\"Total Final demand\")"
   ]
  },
  {
   "cell_type": "code",
   "execution_count": 9,
   "metadata": {},
   "outputs": [],
   "source": [
    "# Read in parameter\n",
    "g_STOCK = gmspy.df2param(my_db, df=STOCK, domains=[g_tech, g_cohort], name='STOCK')"
   ]
  },
  {
   "cell_type": "code",
   "execution_count": 10,
   "metadata": {},
   "outputs": [],
   "source": [
    "# Read in parameter\n",
    "g_IMP  = gmspy.df2param(my_db, df=IMP, domains=[g_tech, g_imps, g_cohort], name='IMP')"
   ]
  },
  {
   "cell_type": "code",
   "execution_count": 11,
   "metadata": {},
   "outputs": [],
   "source": [
    "# Save to gdx file\n",
    "my_db.export('/tmp/demo.gdx')"
   ]
  },
  {
   "cell_type": "markdown",
   "metadata": {},
   "source": [
    "## Inspect db or gdx files"
   ]
  },
  {
   "cell_type": "code",
   "execution_count": 12,
   "metadata": {},
   "outputs": [
    {
     "data": {
      "text/plain": [
       "['tech', 'imps', 'cohort', 'Y', 'STOCK', 'IMP']"
      ]
     },
     "execution_count": 12,
     "metadata": {},
     "output_type": "execute_result"
    }
   ],
   "source": [
    "# What is in this file?\n",
    "gmspy.ls(gdx_filepath='/tmp/demo.gdx')"
   ]
  },
  {
   "cell_type": "code",
   "execution_count": 13,
   "metadata": {},
   "outputs": [
    {
     "data": {
      "text/plain": [
       "['tech', 'imps', 'cohort']"
      ]
     },
     "execution_count": 13,
     "metadata": {},
     "output_type": "execute_result"
    }
   ],
   "source": [
    "# What sets are in this my_db?\n",
    "gmspy.ls(my_db, entity='Set')"
   ]
  },
  {
   "cell_type": "markdown",
   "metadata": {},
   "source": [
    "## Extract from db or gdx files"
   ]
  },
  {
   "cell_type": "code",
   "execution_count": 14,
   "metadata": {},
   "outputs": [
    {
     "data": {
      "text/plain": [
       "['2020', '2021', '2022', '2023', '2024', '2025', '2026', '2027', '2028']"
      ]
     },
     "execution_count": 14,
     "metadata": {},
     "output_type": "execute_result"
    }
   ],
   "source": [
    "# Extract a set from the database\n",
    "extracted_set = gmspy.set2list('cohort', my_db)\n",
    "extracted_set"
   ]
  },
  {
   "cell_type": "code",
   "execution_count": 15,
   "metadata": {},
   "outputs": [
    {
     "data": {
      "text/plain": [
       "['bev', 'icev']"
      ]
     },
     "execution_count": 15,
     "metadata": {},
     "output_type": "execute_result"
    }
   ],
   "source": [
    "# Extract a set from the gdx file\n",
    "another_set = gmspy.set2list('tech', gdx_filepath='/tmp/demo.gdx')\n",
    "another_set"
   ]
  },
  {
   "cell_type": "code",
   "execution_count": 16,
   "metadata": {},
   "outputs": [
    {
     "data": {
      "text/plain": [
       "bev   gwp  2020    0.665257\n",
       "           2021    0.996560\n",
       "           2022    0.575023\n",
       "           2023    0.224564\n",
       "           2024    0.197891\n",
       "           2025    0.298945\n",
       "           2026    0.981139\n",
       "           2027    0.400548\n",
       "           2028    0.001846\n",
       "icev  gwp  2020    0.414993\n",
       "           2021    0.799778\n",
       "           2022    0.410036\n",
       "           2023    0.020946\n",
       "           2024    0.255123\n",
       "           2025    0.500426\n",
       "           2026    0.908273\n",
       "           2027    0.057921\n",
       "           2028    0.636679\n",
       "dtype: float64"
      ]
     },
     "execution_count": 16,
     "metadata": {},
     "output_type": "execute_result"
    }
   ],
   "source": [
    "# Extract parameter from GDX file\n",
    "g_IMP_again = gmspy.param2series('IMP', gdx_filepath='/tmp/demo.gdx')\n",
    "g_IMP_again"
   ]
  },
  {
   "cell_type": "code",
   "execution_count": 17,
   "metadata": {},
   "outputs": [
    {
     "data": {
      "text/html": [
       "<div>\n",
       "<style scoped>\n",
       "    .dataframe tbody tr th:only-of-type {\n",
       "        vertical-align: middle;\n",
       "    }\n",
       "\n",
       "    .dataframe tbody tr th {\n",
       "        vertical-align: top;\n",
       "    }\n",
       "\n",
       "    .dataframe thead th {\n",
       "        text-align: right;\n",
       "    }\n",
       "</style>\n",
       "<table border=\"1\" class=\"dataframe\">\n",
       "  <thead>\n",
       "    <tr style=\"text-align: right;\">\n",
       "      <th></th>\n",
       "      <th></th>\n",
       "      <th>2020</th>\n",
       "      <th>2021</th>\n",
       "      <th>2022</th>\n",
       "      <th>2023</th>\n",
       "      <th>2024</th>\n",
       "      <th>2025</th>\n",
       "      <th>2026</th>\n",
       "      <th>2027</th>\n",
       "      <th>2028</th>\n",
       "    </tr>\n",
       "  </thead>\n",
       "  <tbody>\n",
       "    <tr>\n",
       "      <th>bev</th>\n",
       "      <th>gwp</th>\n",
       "      <td>0.665257</td>\n",
       "      <td>0.996560</td>\n",
       "      <td>0.575023</td>\n",
       "      <td>0.224564</td>\n",
       "      <td>0.197891</td>\n",
       "      <td>0.298945</td>\n",
       "      <td>0.981139</td>\n",
       "      <td>0.400548</td>\n",
       "      <td>0.001846</td>\n",
       "    </tr>\n",
       "    <tr>\n",
       "      <th>icev</th>\n",
       "      <th>gwp</th>\n",
       "      <td>0.414993</td>\n",
       "      <td>0.799778</td>\n",
       "      <td>0.410036</td>\n",
       "      <td>0.020946</td>\n",
       "      <td>0.255123</td>\n",
       "      <td>0.500426</td>\n",
       "      <td>0.908273</td>\n",
       "      <td>0.057921</td>\n",
       "      <td>0.636679</td>\n",
       "    </tr>\n",
       "  </tbody>\n",
       "</table>\n",
       "</div>"
      ],
      "text/plain": [
       "              2020      2021      2022      2023      2024      2025  \\\n",
       "bev  gwp  0.665257  0.996560  0.575023  0.224564  0.197891  0.298945   \n",
       "icev gwp  0.414993  0.799778  0.410036  0.020946  0.255123  0.500426   \n",
       "\n",
       "              2026      2027      2028  \n",
       "bev  gwp  0.981139  0.400548  0.001846  \n",
       "icev gwp  0.908273  0.057921  0.636679  "
      ]
     },
     "execution_count": 17,
     "metadata": {},
     "output_type": "execute_result"
    }
   ],
   "source": [
    "# To get back to original shape of IMP, must be unstacked\n",
    "g_IMP_again.unstack()"
   ]
  }
 ],
 "metadata": {
  "kernelspec": {
   "display_name": "Python 3",
   "language": "python",
   "name": "python3"
  },
  "language_info": {
   "codemirror_mode": {
    "name": "ipython",
    "version": 3
   },
   "file_extension": ".py",
   "mimetype": "text/x-python",
   "name": "python",
   "nbconvert_exporter": "python",
   "pygments_lexer": "ipython3",
   "version": "3.6.7"
  }
 },
 "nbformat": 4,
 "nbformat_minor": 2
}
