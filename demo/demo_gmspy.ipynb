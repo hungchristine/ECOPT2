{
 "cells": [
  {
   "cell_type": "markdown",
   "metadata": {},
   "source": [
    "# GMSPY demo"
   ]
  },
  {
   "cell_type": "code",
   "execution_count": 1,
   "metadata": {},
   "outputs": [
    {
     "name": "stdout",
     "output_type": "stream",
     "text": [
      "/home/bill/documents/ecar/fleet-optimization-code\n"
     ]
    }
   ],
   "source": [
    "%cd ..\n",
    "import gmspy\n",
    "import gams\n",
    "import pandas as pd\n",
    "import numpy as np"
   ]
  },
  {
   "cell_type": "markdown",
   "metadata": {},
   "source": [
    "## Define some Data"
   ]
  },
  {
   "cell_type": "code",
   "execution_count": 2,
   "metadata": {},
   "outputs": [],
   "source": [
    "# 3 sets\n",
    "cohorts = [str(i) for i in range(2020, 2029)] # Important that this be string, not integers\n",
    "tech = ['bev', 'icev']\n",
    "imps = ['gwp']"
   ]
  },
  {
   "cell_type": "code",
   "execution_count": 3,
   "metadata": {},
   "outputs": [
    {
     "data": {
      "text/plain": [
       "bev     100\n",
       "icev      2\n",
       "dtype: int64"
      ]
     },
     "execution_count": 3,
     "metadata": {},
     "output_type": "execute_result"
    }
   ],
   "source": [
    "# total demand - pd Series\n",
    "Y = pd.Series(index=tech, data=[100, 2])\n",
    "Y"
   ]
  },
  {
   "cell_type": "code",
   "execution_count": 4,
   "metadata": {},
   "outputs": [
    {
     "data": {
      "text/html": [
       "<div>\n",
       "<style scoped>\n",
       "    .dataframe tbody tr th:only-of-type {\n",
       "        vertical-align: middle;\n",
       "    }\n",
       "\n",
       "    .dataframe tbody tr th {\n",
       "        vertical-align: top;\n",
       "    }\n",
       "\n",
       "    .dataframe thead th {\n",
       "        text-align: right;\n",
       "    }\n",
       "</style>\n",
       "<table border=\"1\" class=\"dataframe\">\n",
       "  <thead>\n",
       "    <tr style=\"text-align: right;\">\n",
       "      <th></th>\n",
       "      <th>2020</th>\n",
       "      <th>2021</th>\n",
       "      <th>2022</th>\n",
       "      <th>2023</th>\n",
       "      <th>2024</th>\n",
       "      <th>2025</th>\n",
       "      <th>2026</th>\n",
       "      <th>2027</th>\n",
       "      <th>2028</th>\n",
       "    </tr>\n",
       "  </thead>\n",
       "  <tbody>\n",
       "    <tr>\n",
       "      <th>bev</th>\n",
       "      <td>0.839384</td>\n",
       "      <td>0.606491</td>\n",
       "      <td>0.940869</td>\n",
       "      <td>0.423317</td>\n",
       "      <td>0.652177</td>\n",
       "      <td>0.466471</td>\n",
       "      <td>0.050134</td>\n",
       "      <td>0.824016</td>\n",
       "      <td>0.504331</td>\n",
       "    </tr>\n",
       "    <tr>\n",
       "      <th>icev</th>\n",
       "      <td>0.197514</td>\n",
       "      <td>0.947421</td>\n",
       "      <td>0.434148</td>\n",
       "      <td>0.688221</td>\n",
       "      <td>0.147042</td>\n",
       "      <td>0.905718</td>\n",
       "      <td>0.293994</td>\n",
       "      <td>0.941308</td>\n",
       "      <td>0.907836</td>\n",
       "    </tr>\n",
       "  </tbody>\n",
       "</table>\n",
       "</div>"
      ],
      "text/plain": [
       "          2020      2021      2022      2023      2024      2025      2026  \\\n",
       "bev   0.839384  0.606491  0.940869  0.423317  0.652177  0.466471  0.050134   \n",
       "icev  0.197514  0.947421  0.434148  0.688221  0.147042  0.905718  0.293994   \n",
       "\n",
       "          2027      2028  \n",
       "bev   0.824016  0.504331  \n",
       "icev  0.941308  0.907836  "
      ]
     },
     "execution_count": 4,
     "metadata": {},
     "output_type": "execute_result"
    }
   ],
   "source": [
    "# Stock - 2d DataFrame\n",
    "STOCK = pd.DataFrame(index=tech, columns=cohorts)\n",
    "STOCK[:] = np.random.rand(*STOCK.shape)\n",
    "STOCK"
   ]
  },
  {
   "cell_type": "code",
   "execution_count": 5,
   "metadata": {},
   "outputs": [
    {
     "data": {
      "text/html": [
       "<div>\n",
       "<style scoped>\n",
       "    .dataframe tbody tr th:only-of-type {\n",
       "        vertical-align: middle;\n",
       "    }\n",
       "\n",
       "    .dataframe tbody tr th {\n",
       "        vertical-align: top;\n",
       "    }\n",
       "\n",
       "    .dataframe thead th {\n",
       "        text-align: right;\n",
       "    }\n",
       "</style>\n",
       "<table border=\"1\" class=\"dataframe\">\n",
       "  <thead>\n",
       "    <tr style=\"text-align: right;\">\n",
       "      <th></th>\n",
       "      <th></th>\n",
       "      <th>2020</th>\n",
       "      <th>2021</th>\n",
       "      <th>2022</th>\n",
       "      <th>2023</th>\n",
       "      <th>2024</th>\n",
       "      <th>2025</th>\n",
       "      <th>2026</th>\n",
       "      <th>2027</th>\n",
       "      <th>2028</th>\n",
       "    </tr>\n",
       "  </thead>\n",
       "  <tbody>\n",
       "    <tr>\n",
       "      <th>bev</th>\n",
       "      <th>gwp</th>\n",
       "      <td>0.619215</td>\n",
       "      <td>0.166964</td>\n",
       "      <td>0.439538</td>\n",
       "      <td>0.137155</td>\n",
       "      <td>0.648548</td>\n",
       "      <td>0.853029</td>\n",
       "      <td>0.408626</td>\n",
       "      <td>0.409136</td>\n",
       "      <td>0.767484</td>\n",
       "    </tr>\n",
       "    <tr>\n",
       "      <th>icev</th>\n",
       "      <th>gwp</th>\n",
       "      <td>0.246909</td>\n",
       "      <td>0.490458</td>\n",
       "      <td>0.518501</td>\n",
       "      <td>0.611586</td>\n",
       "      <td>0.958469</td>\n",
       "      <td>0.645308</td>\n",
       "      <td>0.871200</td>\n",
       "      <td>0.394954</td>\n",
       "      <td>0.035056</td>\n",
       "    </tr>\n",
       "  </tbody>\n",
       "</table>\n",
       "</div>"
      ],
      "text/plain": [
       "              2020      2021      2022      2023      2024      2025  \\\n",
       "bev  gwp  0.619215  0.166964  0.439538  0.137155  0.648548  0.853029   \n",
       "icev gwp  0.246909  0.490458  0.518501  0.611586  0.958469  0.645308   \n",
       "\n",
       "              2026      2027      2028  \n",
       "bev  gwp  0.408626  0.409136  0.767484  \n",
       "icev gwp  0.871200  0.394954  0.035056  "
      ]
     },
     "execution_count": 5,
     "metadata": {},
     "output_type": "execute_result"
    }
   ],
   "source": [
    "# IMP - 3d DataFrame\n",
    "ix = pd.MultiIndex.from_product((tech, imps))\n",
    "IMP = pd.DataFrame(index=ix, columns=cohorts)\n",
    "IMP[:] = np.random.rand(*IMP.shape)\n",
    "IMP"
   ]
  },
  {
   "cell_type": "markdown",
   "metadata": {},
   "source": [
    "## Pass to GAMS and save to GDX file"
   ]
  },
  {
   "cell_type": "code",
   "execution_count": 6,
   "metadata": {},
   "outputs": [],
   "source": [
    "# Define worspace and database\n",
    "ws = gams.GamsWorkspace()\n",
    "my_db = ws.add_database()"
   ]
  },
  {
   "cell_type": "code",
   "execution_count": 7,
   "metadata": {},
   "outputs": [],
   "source": [
    "# Read in sets\n",
    "g_tech = gmspy.list2set(my_db, tech, 'tech')\n",
    "g_imps = gmspy.list2set(my_db, imps, 'imps', \"All the environmental impacts\")\n",
    "g_cohort = gmspy.list2set(my_db, cohorts, 'cohort', \"Year each car was built\")"
   ]
  },
  {
   "cell_type": "code",
   "execution_count": 8,
   "metadata": {},
   "outputs": [],
   "source": [
    "# Read in parameter\n",
    "g_Y = gmspy.df2param(my_db, df=Y, domains=[g_tech], name='Y', comment=\"Total Final demand\")"
   ]
  },
  {
   "cell_type": "code",
   "execution_count": 9,
   "metadata": {},
   "outputs": [],
   "source": [
    "# Read in parameter\n",
    "g_STOCK = gmspy.df2param(my_db, df=STOCK, domains=[g_tech, g_cohort], name='STOCK')"
   ]
  },
  {
   "cell_type": "code",
   "execution_count": 10,
   "metadata": {},
   "outputs": [],
   "source": [
    "# Read in parameter\n",
    "g_IMP  = gmspy.df2param(my_db, df=IMP, domains=[g_tech, g_imps, g_cohort], name='IMP')"
   ]
  },
  {
   "cell_type": "code",
   "execution_count": 11,
   "metadata": {},
   "outputs": [],
   "source": [
    "# Save to gdx file\n",
    "my_db.export('/tmp/demo.gdx')"
   ]
  },
  {
   "cell_type": "markdown",
   "metadata": {},
   "source": [
    "## Inspect db or gdx files"
   ]
  },
  {
   "cell_type": "code",
   "execution_count": 12,
   "metadata": {},
   "outputs": [
    {
     "data": {
      "text/plain": [
       "['tech', 'imps', 'cohort', 'Y', 'STOCK', 'IMP']"
      ]
     },
     "execution_count": 12,
     "metadata": {},
     "output_type": "execute_result"
    }
   ],
   "source": [
    "# What is in this file?\n",
    "gmspy.ls(gdx_filepath='/tmp/demo.gdx')"
   ]
  },
  {
   "cell_type": "code",
   "execution_count": 13,
   "metadata": {},
   "outputs": [
    {
     "data": {
      "text/plain": [
       "['tech', 'imps', 'cohort']"
      ]
     },
     "execution_count": 13,
     "metadata": {},
     "output_type": "execute_result"
    }
   ],
   "source": [
    "# What sets are in this my_db?\n",
    "gmspy.ls(my_db, entity='Set')"
   ]
  },
  {
   "cell_type": "markdown",
   "metadata": {},
   "source": [
    "## Extract from db or gdx files"
   ]
  },
  {
   "cell_type": "code",
   "execution_count": 14,
   "metadata": {},
   "outputs": [
    {
     "data": {
      "text/plain": [
       "['2020', '2021', '2022', '2023', '2024', '2025', '2026', '2027', '2028']"
      ]
     },
     "execution_count": 14,
     "metadata": {},
     "output_type": "execute_result"
    }
   ],
   "source": [
    "# Extract a set from the database\n",
    "extracted_set = gmspy.set2list('cohort', my_db)\n",
    "extracted_set"
   ]
  },
  {
   "cell_type": "code",
   "execution_count": 15,
   "metadata": {},
   "outputs": [
    {
     "data": {
      "text/plain": [
       "['bev', 'icev']"
      ]
     },
     "execution_count": 15,
     "metadata": {},
     "output_type": "execute_result"
    }
   ],
   "source": [
    "# Extract a set from the gdx file\n",
    "another_set = gmspy.set2list('tech', gdx_filepath='/tmp/demo.gdx')\n",
    "another_set"
   ]
  },
  {
   "cell_type": "code",
   "execution_count": 16,
   "metadata": {},
   "outputs": [
    {
     "data": {
      "text/plain": [
       "bev   gwp  2020    0.619215\n",
       "           2021    0.166964\n",
       "           2022    0.439538\n",
       "           2023    0.137155\n",
       "           2024    0.648548\n",
       "           2025    0.853029\n",
       "           2026    0.408626\n",
       "           2027    0.409136\n",
       "           2028    0.767484\n",
       "icev  gwp  2020    0.246909\n",
       "           2021    0.490458\n",
       "           2022    0.518501\n",
       "           2023    0.611586\n",
       "           2024    0.958469\n",
       "           2025    0.645308\n",
       "           2026    0.871200\n",
       "           2027    0.394954\n",
       "           2028    0.035056\n",
       "dtype: float64"
      ]
     },
     "execution_count": 16,
     "metadata": {},
     "output_type": "execute_result"
    }
   ],
   "source": [
    "# Extract parameter from GDX file\n",
    "g_IMP_again = gmspy.param2series('IMP', gdx_filepath='/tmp/demo.gdx')\n",
    "g_IMP_again"
   ]
  },
  {
   "cell_type": "code",
   "execution_count": 18,
   "metadata": {},
   "outputs": [
    {
     "data": {
      "text/html": [
       "<div>\n",
       "<style scoped>\n",
       "    .dataframe tbody tr th:only-of-type {\n",
       "        vertical-align: middle;\n",
       "    }\n",
       "\n",
       "    .dataframe tbody tr th {\n",
       "        vertical-align: top;\n",
       "    }\n",
       "\n",
       "    .dataframe thead th {\n",
       "        text-align: right;\n",
       "    }\n",
       "</style>\n",
       "<table border=\"1\" class=\"dataframe\">\n",
       "  <thead>\n",
       "    <tr style=\"text-align: right;\">\n",
       "      <th></th>\n",
       "      <th></th>\n",
       "      <th>2020</th>\n",
       "      <th>2021</th>\n",
       "      <th>2022</th>\n",
       "      <th>2023</th>\n",
       "      <th>2024</th>\n",
       "      <th>2025</th>\n",
       "      <th>2026</th>\n",
       "      <th>2027</th>\n",
       "      <th>2028</th>\n",
       "    </tr>\n",
       "  </thead>\n",
       "  <tbody>\n",
       "    <tr>\n",
       "      <th>bev</th>\n",
       "      <th>gwp</th>\n",
       "      <td>0.619215</td>\n",
       "      <td>0.166964</td>\n",
       "      <td>0.439538</td>\n",
       "      <td>0.137155</td>\n",
       "      <td>0.648548</td>\n",
       "      <td>0.853029</td>\n",
       "      <td>0.408626</td>\n",
       "      <td>0.409136</td>\n",
       "      <td>0.767484</td>\n",
       "    </tr>\n",
       "    <tr>\n",
       "      <th>icev</th>\n",
       "      <th>gwp</th>\n",
       "      <td>0.246909</td>\n",
       "      <td>0.490458</td>\n",
       "      <td>0.518501</td>\n",
       "      <td>0.611586</td>\n",
       "      <td>0.958469</td>\n",
       "      <td>0.645308</td>\n",
       "      <td>0.871200</td>\n",
       "      <td>0.394954</td>\n",
       "      <td>0.035056</td>\n",
       "    </tr>\n",
       "  </tbody>\n",
       "</table>\n",
       "</div>"
      ],
      "text/plain": [
       "              2020      2021      2022      2023      2024      2025  \\\n",
       "bev  gwp  0.619215  0.166964  0.439538  0.137155  0.648548  0.853029   \n",
       "icev gwp  0.246909  0.490458  0.518501  0.611586  0.958469  0.645308   \n",
       "\n",
       "              2026      2027      2028  \n",
       "bev  gwp  0.408626  0.409136  0.767484  \n",
       "icev gwp  0.871200  0.394954  0.035056  "
      ]
     },
     "execution_count": 18,
     "metadata": {},
     "output_type": "execute_result"
    }
   ],
   "source": [
    "# Use param2df to get it unstacked()\n",
    "g_IMP_again_df = gmspy.param2df('IMP', gdx_filepath='/tmp/demo.gdx')\n",
    "g_IMP_again_df"
   ]
  },
  {
   "cell_type": "code",
   "execution_count": 19,
   "metadata": {},
   "outputs": [
    {
     "data": {
      "text/html": [
       "<div>\n",
       "<style scoped>\n",
       "    .dataframe tbody tr th:only-of-type {\n",
       "        vertical-align: middle;\n",
       "    }\n",
       "\n",
       "    .dataframe tbody tr th {\n",
       "        vertical-align: top;\n",
       "    }\n",
       "\n",
       "    .dataframe thead th {\n",
       "        text-align: right;\n",
       "    }\n",
       "</style>\n",
       "<table border=\"1\" class=\"dataframe\">\n",
       "  <thead>\n",
       "    <tr style=\"text-align: right;\">\n",
       "      <th></th>\n",
       "      <th>2020</th>\n",
       "      <th>2021</th>\n",
       "      <th>2022</th>\n",
       "      <th>2023</th>\n",
       "      <th>2024</th>\n",
       "      <th>2025</th>\n",
       "      <th>2026</th>\n",
       "      <th>2027</th>\n",
       "      <th>2028</th>\n",
       "    </tr>\n",
       "  </thead>\n",
       "  <tbody>\n",
       "    <tr>\n",
       "      <th>bev</th>\n",
       "      <td>0.839384</td>\n",
       "      <td>0.606491</td>\n",
       "      <td>0.940869</td>\n",
       "      <td>0.423317</td>\n",
       "      <td>0.652177</td>\n",
       "      <td>0.466471</td>\n",
       "      <td>0.050134</td>\n",
       "      <td>0.824016</td>\n",
       "      <td>0.504331</td>\n",
       "    </tr>\n",
       "    <tr>\n",
       "      <th>icev</th>\n",
       "      <td>0.197514</td>\n",
       "      <td>0.947421</td>\n",
       "      <td>0.434148</td>\n",
       "      <td>0.688221</td>\n",
       "      <td>0.147042</td>\n",
       "      <td>0.905718</td>\n",
       "      <td>0.293994</td>\n",
       "      <td>0.941308</td>\n",
       "      <td>0.907836</td>\n",
       "    </tr>\n",
       "  </tbody>\n",
       "</table>\n",
       "</div>"
      ],
      "text/plain": [
       "          2020      2021      2022      2023      2024      2025      2026  \\\n",
       "bev   0.839384  0.606491  0.940869  0.423317  0.652177  0.466471  0.050134   \n",
       "icev  0.197514  0.947421  0.434148  0.688221  0.147042  0.905718  0.293994   \n",
       "\n",
       "          2027      2028  \n",
       "bev   0.824016  0.504331  \n",
       "icev  0.941308  0.907836  "
      ]
     },
     "execution_count": 19,
     "metadata": {},
     "output_type": "execute_result"
    }
   ],
   "source": [
    "# 2D dataframe\n",
    "gmspy.param2df('STOCK', gdx_filepath='/tmp/demo.gdx')"
   ]
  }
 ],
 "metadata": {
  "kernelspec": {
   "display_name": "Python 3",
   "language": "python",
   "name": "python3"
  },
  "language_info": {
   "codemirror_mode": {
    "name": "ipython",
    "version": 3
   },
   "file_extension": ".py",
   "mimetype": "text/x-python",
   "name": "python",
   "nbconvert_exporter": "python",
   "pygments_lexer": "ipython3",
   "version": "3.6.7"
  }
 },
 "nbformat": 4,
 "nbformat_minor": 2
}
